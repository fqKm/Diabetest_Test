{
 "cells": [
  {
   "cell_type": "code",
   "id": "f9fcbb1d-d5e0-46c7-93a5-0ac6ecddfe6e",
   "metadata": {
    "id": "f9fcbb1d-d5e0-46c7-93a5-0ac6ecddfe6e",
    "ExecuteTime": {
     "end_time": "2024-12-06T11:50:23.868657Z",
     "start_time": "2024-12-06T11:50:23.243249Z"
    }
   },
   "source": [
    "import numpy as np\n",
    "import pandas as pd\n",
    "import matplotlib as plt\n",
    "import seaborn as sns\n",
    "from sklearn.model_selection import train_test_split\n",
    "from sklearn.tree import DecisionTreeClassifier\n",
    "from sklearn import metrics\n",
    "from sklearn.ensemble import RandomForestClassifier\n",
    "from scipy.stats import mode\n",
    "from sklearn.metrics import accuracy_score\n",
    "import warnings\n",
    "warnings.simplefilter(action='ignore')"
   ],
   "outputs": [],
   "execution_count": 1
  },
  {
   "cell_type": "code",
   "id": "0f8dfd2b-229c-420b-852a-4bd236f43d7a",
   "metadata": {
    "colab": {
     "base_uri": "https://localhost:8080/",
     "height": 206
    },
    "id": "0f8dfd2b-229c-420b-852a-4bd236f43d7a",
    "outputId": "fd610a5e-916b-461b-b700-828a05fffcd9",
    "ExecuteTime": {
     "end_time": "2024-12-06T11:50:24.853025Z",
     "start_time": "2024-12-06T11:50:23.871762Z"
    }
   },
   "source": [
    "data = pd.read_csv(\"https://raw.githubusercontent.com/yeftayudistira/data/refs/heads/main/diabetes_new.csv\")\n",
    "data.head()"
   ],
   "outputs": [
    {
     "data": {
      "text/plain": [
       "   Age  BS Fast  BS pp  Plasma R  Plasma F  HbA1c    Type  Class\n",
       "0   50      6.8    8.8      11.2       7.2     62   Type1      1\n",
       "1   31      5.2    6.8      10.9       4.2     33  Normal      0\n",
       "2   32      6.8    8.8      11.2       7.2     62   Type1      1\n",
       "3   21      5.7    5.8      10.7       4.8     49  Normal      0\n",
       "4   33      6.8    8.8      11.2       7.2     62   Type1      1"
      ],
      "text/html": [
       "<div>\n",
       "<style scoped>\n",
       "    .dataframe tbody tr th:only-of-type {\n",
       "        vertical-align: middle;\n",
       "    }\n",
       "\n",
       "    .dataframe tbody tr th {\n",
       "        vertical-align: top;\n",
       "    }\n",
       "\n",
       "    .dataframe thead th {\n",
       "        text-align: right;\n",
       "    }\n",
       "</style>\n",
       "<table border=\"1\" class=\"dataframe\">\n",
       "  <thead>\n",
       "    <tr style=\"text-align: right;\">\n",
       "      <th></th>\n",
       "      <th>Age</th>\n",
       "      <th>BS Fast</th>\n",
       "      <th>BS pp</th>\n",
       "      <th>Plasma R</th>\n",
       "      <th>Plasma F</th>\n",
       "      <th>HbA1c</th>\n",
       "      <th>Type</th>\n",
       "      <th>Class</th>\n",
       "    </tr>\n",
       "  </thead>\n",
       "  <tbody>\n",
       "    <tr>\n",
       "      <th>0</th>\n",
       "      <td>50</td>\n",
       "      <td>6.8</td>\n",
       "      <td>8.8</td>\n",
       "      <td>11.2</td>\n",
       "      <td>7.2</td>\n",
       "      <td>62</td>\n",
       "      <td>Type1</td>\n",
       "      <td>1</td>\n",
       "    </tr>\n",
       "    <tr>\n",
       "      <th>1</th>\n",
       "      <td>31</td>\n",
       "      <td>5.2</td>\n",
       "      <td>6.8</td>\n",
       "      <td>10.9</td>\n",
       "      <td>4.2</td>\n",
       "      <td>33</td>\n",
       "      <td>Normal</td>\n",
       "      <td>0</td>\n",
       "    </tr>\n",
       "    <tr>\n",
       "      <th>2</th>\n",
       "      <td>32</td>\n",
       "      <td>6.8</td>\n",
       "      <td>8.8</td>\n",
       "      <td>11.2</td>\n",
       "      <td>7.2</td>\n",
       "      <td>62</td>\n",
       "      <td>Type1</td>\n",
       "      <td>1</td>\n",
       "    </tr>\n",
       "    <tr>\n",
       "      <th>3</th>\n",
       "      <td>21</td>\n",
       "      <td>5.7</td>\n",
       "      <td>5.8</td>\n",
       "      <td>10.7</td>\n",
       "      <td>4.8</td>\n",
       "      <td>49</td>\n",
       "      <td>Normal</td>\n",
       "      <td>0</td>\n",
       "    </tr>\n",
       "    <tr>\n",
       "      <th>4</th>\n",
       "      <td>33</td>\n",
       "      <td>6.8</td>\n",
       "      <td>8.8</td>\n",
       "      <td>11.2</td>\n",
       "      <td>7.2</td>\n",
       "      <td>62</td>\n",
       "      <td>Type1</td>\n",
       "      <td>1</td>\n",
       "    </tr>\n",
       "  </tbody>\n",
       "</table>\n",
       "</div>"
      ]
     },
     "execution_count": 2,
     "metadata": {},
     "output_type": "execute_result"
    }
   ],
   "execution_count": 2
  },
  {
   "cell_type": "code",
   "id": "63747408-6730-4b0c-851c-031b4f512c5a",
   "metadata": {
    "colab": {
     "base_uri": "https://localhost:8080/"
    },
    "id": "63747408-6730-4b0c-851c-031b4f512c5a",
    "outputId": "01a31a09-98b0-4cd7-c411-32d94e003caf",
    "ExecuteTime": {
     "end_time": "2024-12-06T11:50:24.870632Z",
     "start_time": "2024-12-06T11:50:24.856676Z"
    }
   },
   "source": [
    "data.duplicated().sum()"
   ],
   "outputs": [
    {
     "data": {
      "text/plain": [
       "386"
      ]
     },
     "execution_count": 3,
     "metadata": {},
     "output_type": "execute_result"
    }
   ],
   "execution_count": 3
  },
  {
   "cell_type": "code",
   "id": "3454f7bd-1981-4406-be01-dd10c9062f99",
   "metadata": {
    "id": "3454f7bd-1981-4406-be01-dd10c9062f99",
    "ExecuteTime": {
     "end_time": "2024-12-06T11:50:24.886997Z",
     "start_time": "2024-12-06T11:50:24.877704Z"
    }
   },
   "source": [
    "data.drop_duplicates(inplace=True)"
   ],
   "outputs": [],
   "execution_count": 4
  },
  {
   "cell_type": "code",
   "source": [
    "data['Type'].unique()"
   ],
   "metadata": {
    "colab": {
     "base_uri": "https://localhost:8080/"
    },
    "id": "4UhEq7ilv4ix",
    "outputId": "4c1667a1-5696-4343-9bee-ccbf5c5434f1",
    "ExecuteTime": {
     "end_time": "2024-12-06T11:50:24.902069Z",
     "start_time": "2024-12-06T11:50:24.890015Z"
    }
   },
   "id": "4UhEq7ilv4ix",
   "outputs": [
    {
     "data": {
      "text/plain": [
       "array(['Type1', 'Normal', 'Type2'], dtype=object)"
      ]
     },
     "execution_count": 5,
     "metadata": {},
     "output_type": "execute_result"
    }
   ],
   "execution_count": 5
  },
  {
   "cell_type": "code",
   "id": "9a314149-1128-4dac-8675-5ba20080e55c",
   "metadata": {
    "colab": {
     "base_uri": "https://localhost:8080/"
    },
    "id": "9a314149-1128-4dac-8675-5ba20080e55c",
    "outputId": "40fa5c28-a187-4e41-e4dd-58fedeb27038",
    "ExecuteTime": {
     "end_time": "2024-12-06T11:50:24.925551Z",
     "start_time": "2024-12-06T11:50:24.905082Z"
    }
   },
   "source": [
    "data.info()"
   ],
   "outputs": [
    {
     "name": "stdout",
     "output_type": "stream",
     "text": [
      "<class 'pandas.core.frame.DataFrame'>\n",
      "Index: 623 entries, 0 to 823\n",
      "Data columns (total 8 columns):\n",
      " #   Column    Non-Null Count  Dtype  \n",
      "---  ------    --------------  -----  \n",
      " 0   Age       623 non-null    int64  \n",
      " 1   BS Fast   623 non-null    float64\n",
      " 2   BS pp     623 non-null    float64\n",
      " 3   Plasma R  623 non-null    float64\n",
      " 4   Plasma F  623 non-null    float64\n",
      " 5   HbA1c     623 non-null    int64  \n",
      " 6   Type      623 non-null    object \n",
      " 7   Class     623 non-null    int64  \n",
      "dtypes: float64(4), int64(3), object(1)\n",
      "memory usage: 43.8+ KB\n"
     ]
    }
   ],
   "execution_count": 6
  },
  {
   "cell_type": "code",
   "id": "120438c7-99b1-4adc-8f51-959e0788fae6",
   "metadata": {
    "colab": {
     "base_uri": "https://localhost:8080/",
     "height": 300
    },
    "id": "120438c7-99b1-4adc-8f51-959e0788fae6",
    "outputId": "fad481d1-6533-41f6-8125-286e326d2eb3",
    "ExecuteTime": {
     "end_time": "2024-12-06T11:50:24.967606Z",
     "start_time": "2024-12-06T11:50:24.928861Z"
    }
   },
   "source": [
    "data.describe()"
   ],
   "outputs": [
    {
     "data": {
      "text/plain": [
       "              Age     BS Fast       BS pp    Plasma R    Plasma F       HbA1c  \\\n",
       "count  623.000000  623.000000  623.000000  623.000000  623.000000  623.000000   \n",
       "mean    33.897271   14.416212    6.684109   10.586517    5.947994   42.078652   \n",
       "std     12.102418   13.317531    1.137120    1.417510    1.565779   11.661431   \n",
       "min     21.000000    0.000000    4.200000    7.900000    3.900000   28.000000   \n",
       "25%     24.000000    5.600000    5.800000   10.200000    4.800000   33.000000   \n",
       "50%     30.000000    6.800000    6.800000   10.900000    5.600000   40.000000   \n",
       "75%     41.000000   25.000000    7.700000   11.400000    7.400000   53.000000   \n",
       "max     81.000000   54.000000    8.800000   13.100000    9.100000   69.000000   \n",
       "\n",
       "            Class  \n",
       "count  623.000000  \n",
       "mean     0.313002  \n",
       "std      0.464088  \n",
       "min      0.000000  \n",
       "25%      0.000000  \n",
       "50%      0.000000  \n",
       "75%      1.000000  \n",
       "max      1.000000  "
      ],
      "text/html": [
       "<div>\n",
       "<style scoped>\n",
       "    .dataframe tbody tr th:only-of-type {\n",
       "        vertical-align: middle;\n",
       "    }\n",
       "\n",
       "    .dataframe tbody tr th {\n",
       "        vertical-align: top;\n",
       "    }\n",
       "\n",
       "    .dataframe thead th {\n",
       "        text-align: right;\n",
       "    }\n",
       "</style>\n",
       "<table border=\"1\" class=\"dataframe\">\n",
       "  <thead>\n",
       "    <tr style=\"text-align: right;\">\n",
       "      <th></th>\n",
       "      <th>Age</th>\n",
       "      <th>BS Fast</th>\n",
       "      <th>BS pp</th>\n",
       "      <th>Plasma R</th>\n",
       "      <th>Plasma F</th>\n",
       "      <th>HbA1c</th>\n",
       "      <th>Class</th>\n",
       "    </tr>\n",
       "  </thead>\n",
       "  <tbody>\n",
       "    <tr>\n",
       "      <th>count</th>\n",
       "      <td>623.000000</td>\n",
       "      <td>623.000000</td>\n",
       "      <td>623.000000</td>\n",
       "      <td>623.000000</td>\n",
       "      <td>623.000000</td>\n",
       "      <td>623.000000</td>\n",
       "      <td>623.000000</td>\n",
       "    </tr>\n",
       "    <tr>\n",
       "      <th>mean</th>\n",
       "      <td>33.897271</td>\n",
       "      <td>14.416212</td>\n",
       "      <td>6.684109</td>\n",
       "      <td>10.586517</td>\n",
       "      <td>5.947994</td>\n",
       "      <td>42.078652</td>\n",
       "      <td>0.313002</td>\n",
       "    </tr>\n",
       "    <tr>\n",
       "      <th>std</th>\n",
       "      <td>12.102418</td>\n",
       "      <td>13.317531</td>\n",
       "      <td>1.137120</td>\n",
       "      <td>1.417510</td>\n",
       "      <td>1.565779</td>\n",
       "      <td>11.661431</td>\n",
       "      <td>0.464088</td>\n",
       "    </tr>\n",
       "    <tr>\n",
       "      <th>min</th>\n",
       "      <td>21.000000</td>\n",
       "      <td>0.000000</td>\n",
       "      <td>4.200000</td>\n",
       "      <td>7.900000</td>\n",
       "      <td>3.900000</td>\n",
       "      <td>28.000000</td>\n",
       "      <td>0.000000</td>\n",
       "    </tr>\n",
       "    <tr>\n",
       "      <th>25%</th>\n",
       "      <td>24.000000</td>\n",
       "      <td>5.600000</td>\n",
       "      <td>5.800000</td>\n",
       "      <td>10.200000</td>\n",
       "      <td>4.800000</td>\n",
       "      <td>33.000000</td>\n",
       "      <td>0.000000</td>\n",
       "    </tr>\n",
       "    <tr>\n",
       "      <th>50%</th>\n",
       "      <td>30.000000</td>\n",
       "      <td>6.800000</td>\n",
       "      <td>6.800000</td>\n",
       "      <td>10.900000</td>\n",
       "      <td>5.600000</td>\n",
       "      <td>40.000000</td>\n",
       "      <td>0.000000</td>\n",
       "    </tr>\n",
       "    <tr>\n",
       "      <th>75%</th>\n",
       "      <td>41.000000</td>\n",
       "      <td>25.000000</td>\n",
       "      <td>7.700000</td>\n",
       "      <td>11.400000</td>\n",
       "      <td>7.400000</td>\n",
       "      <td>53.000000</td>\n",
       "      <td>1.000000</td>\n",
       "    </tr>\n",
       "    <tr>\n",
       "      <th>max</th>\n",
       "      <td>81.000000</td>\n",
       "      <td>54.000000</td>\n",
       "      <td>8.800000</td>\n",
       "      <td>13.100000</td>\n",
       "      <td>9.100000</td>\n",
       "      <td>69.000000</td>\n",
       "      <td>1.000000</td>\n",
       "    </tr>\n",
       "  </tbody>\n",
       "</table>\n",
       "</div>"
      ]
     },
     "execution_count": 7,
     "metadata": {},
     "output_type": "execute_result"
    }
   ],
   "execution_count": 7
  },
  {
   "cell_type": "code",
   "id": "f6707913-55d8-42f5-b813-fe45ba41ffc7",
   "metadata": {
    "id": "f6707913-55d8-42f5-b813-fe45ba41ffc7",
    "ExecuteTime": {
     "end_time": "2024-12-06T11:50:24.979078Z",
     "start_time": "2024-12-06T11:50:24.969860Z"
    }
   },
   "source": [
    "X = data[['Age','BS Fast','BS pp','Plasma R','Plasma F','HbA1c']]\n",
    "y = data['Class']"
   ],
   "outputs": [],
   "execution_count": 8
  },
  {
   "cell_type": "code",
   "id": "6c2866a4-834b-4abb-ac32-2e1a46e5d702",
   "metadata": {
    "id": "6c2866a4-834b-4abb-ac32-2e1a46e5d702",
    "ExecuteTime": {
     "end_time": "2024-12-06T11:50:24.992807Z",
     "start_time": "2024-12-06T11:50:24.981636Z"
    }
   },
   "source": [
    "X_train, X_test, y_train,y_test= train_test_split(X,y, test_size= 0.20, random_state=42)"
   ],
   "outputs": [],
   "execution_count": 9
  },
  {
   "cell_type": "code",
   "id": "3bc48e34-38e2-4ef2-b3fd-b0b219c7d974",
   "metadata": {
    "colab": {
     "base_uri": "https://localhost:8080/"
    },
    "id": "3bc48e34-38e2-4ef2-b3fd-b0b219c7d974",
    "outputId": "d7e84b71-167c-42d3-d9f0-c0defba0c8cf",
    "ExecuteTime": {
     "end_time": "2024-12-06T11:50:25.324264Z",
     "start_time": "2024-12-06T11:50:24.995824Z"
    }
   },
   "source": [
    "rf_model = RandomForestClassifier(n_estimators=100, random_state=42)\n",
    "rf_model.fit(X_train,y_train)\n",
    "y_pred = rf_model.predict(X_test)\n",
    "accuracy = accuracy_score(y_test, y_pred)\n",
    "print(f\"Akurasi: {accuracy * 100:.2f}%\")"
   ],
   "outputs": [
    {
     "name": "stdout",
     "output_type": "stream",
     "text": [
      "Akurasi: 100.00%\n"
     ]
    }
   ],
   "execution_count": 10
  },
  {
   "cell_type": "code",
   "id": "1af516fb-5aaa-402c-8335-27d0b20dc88f",
   "metadata": {
    "colab": {
     "base_uri": "https://localhost:8080/",
     "height": 269
    },
    "id": "1af516fb-5aaa-402c-8335-27d0b20dc88f",
    "outputId": "15ce876c-4eeb-46c9-a7ed-8a0fd3353d55",
    "ExecuteTime": {
     "end_time": "2024-12-06T11:50:25.351608Z",
     "start_time": "2024-12-06T11:50:25.327279Z"
    }
   },
   "source": [
    "df = data[['Age','BS Fast','BS pp','Plasma R','Plasma F','HbA1c','Class']]\n",
    "df.corr()"
   ],
   "outputs": [
    {
     "data": {
      "text/plain": [
       "               Age   BS Fast     BS pp  Plasma R  Plasma F     HbA1c     Class\n",
       "Age       1.000000 -0.222873 -0.008145  0.116323  0.178359  0.197588  0.216410\n",
       "BS Fast  -0.222873  1.000000  0.025139 -0.254357 -0.342720 -0.362790 -0.411225\n",
       "BS pp    -0.008145  0.025139  1.000000 -0.015503  0.081335  0.298749  0.054224\n",
       "Plasma R  0.116323 -0.254357 -0.015503  1.000000  0.736790  0.403020  0.666523\n",
       "Plasma F  0.178359 -0.342720  0.081335  0.736790  1.000000  0.762364  0.878003\n",
       "HbA1c     0.197588 -0.362790  0.298749  0.403020  0.762364  1.000000  0.898535\n",
       "Class     0.216410 -0.411225  0.054224  0.666523  0.878003  0.898535  1.000000"
      ],
      "text/html": [
       "<div>\n",
       "<style scoped>\n",
       "    .dataframe tbody tr th:only-of-type {\n",
       "        vertical-align: middle;\n",
       "    }\n",
       "\n",
       "    .dataframe tbody tr th {\n",
       "        vertical-align: top;\n",
       "    }\n",
       "\n",
       "    .dataframe thead th {\n",
       "        text-align: right;\n",
       "    }\n",
       "</style>\n",
       "<table border=\"1\" class=\"dataframe\">\n",
       "  <thead>\n",
       "    <tr style=\"text-align: right;\">\n",
       "      <th></th>\n",
       "      <th>Age</th>\n",
       "      <th>BS Fast</th>\n",
       "      <th>BS pp</th>\n",
       "      <th>Plasma R</th>\n",
       "      <th>Plasma F</th>\n",
       "      <th>HbA1c</th>\n",
       "      <th>Class</th>\n",
       "    </tr>\n",
       "  </thead>\n",
       "  <tbody>\n",
       "    <tr>\n",
       "      <th>Age</th>\n",
       "      <td>1.000000</td>\n",
       "      <td>-0.222873</td>\n",
       "      <td>-0.008145</td>\n",
       "      <td>0.116323</td>\n",
       "      <td>0.178359</td>\n",
       "      <td>0.197588</td>\n",
       "      <td>0.216410</td>\n",
       "    </tr>\n",
       "    <tr>\n",
       "      <th>BS Fast</th>\n",
       "      <td>-0.222873</td>\n",
       "      <td>1.000000</td>\n",
       "      <td>0.025139</td>\n",
       "      <td>-0.254357</td>\n",
       "      <td>-0.342720</td>\n",
       "      <td>-0.362790</td>\n",
       "      <td>-0.411225</td>\n",
       "    </tr>\n",
       "    <tr>\n",
       "      <th>BS pp</th>\n",
       "      <td>-0.008145</td>\n",
       "      <td>0.025139</td>\n",
       "      <td>1.000000</td>\n",
       "      <td>-0.015503</td>\n",
       "      <td>0.081335</td>\n",
       "      <td>0.298749</td>\n",
       "      <td>0.054224</td>\n",
       "    </tr>\n",
       "    <tr>\n",
       "      <th>Plasma R</th>\n",
       "      <td>0.116323</td>\n",
       "      <td>-0.254357</td>\n",
       "      <td>-0.015503</td>\n",
       "      <td>1.000000</td>\n",
       "      <td>0.736790</td>\n",
       "      <td>0.403020</td>\n",
       "      <td>0.666523</td>\n",
       "    </tr>\n",
       "    <tr>\n",
       "      <th>Plasma F</th>\n",
       "      <td>0.178359</td>\n",
       "      <td>-0.342720</td>\n",
       "      <td>0.081335</td>\n",
       "      <td>0.736790</td>\n",
       "      <td>1.000000</td>\n",
       "      <td>0.762364</td>\n",
       "      <td>0.878003</td>\n",
       "    </tr>\n",
       "    <tr>\n",
       "      <th>HbA1c</th>\n",
       "      <td>0.197588</td>\n",
       "      <td>-0.362790</td>\n",
       "      <td>0.298749</td>\n",
       "      <td>0.403020</td>\n",
       "      <td>0.762364</td>\n",
       "      <td>1.000000</td>\n",
       "      <td>0.898535</td>\n",
       "    </tr>\n",
       "    <tr>\n",
       "      <th>Class</th>\n",
       "      <td>0.216410</td>\n",
       "      <td>-0.411225</td>\n",
       "      <td>0.054224</td>\n",
       "      <td>0.666523</td>\n",
       "      <td>0.878003</td>\n",
       "      <td>0.898535</td>\n",
       "      <td>1.000000</td>\n",
       "    </tr>\n",
       "  </tbody>\n",
       "</table>\n",
       "</div>"
      ]
     },
     "execution_count": 11,
     "metadata": {},
     "output_type": "execute_result"
    }
   ],
   "execution_count": 11
  },
  {
   "cell_type": "code",
   "id": "9427b446-328d-4211-994c-f820a435e810",
   "metadata": {
    "colab": {
     "base_uri": "https://localhost:8080/",
     "height": 503
    },
    "id": "9427b446-328d-4211-994c-f820a435e810",
    "outputId": "af067152-b3e8-4d7e-e3d4-b4a1546c2983",
    "ExecuteTime": {
     "end_time": "2024-12-06T11:50:26.126705Z",
     "start_time": "2024-12-06T11:50:25.354018Z"
    }
   },
   "source": [
    "sns.heatmap(df.corr(), annot = True)"
   ],
   "outputs": [
    {
     "data": {
      "text/plain": [
       "<Axes: >"
      ]
     },
     "execution_count": 12,
     "metadata": {},
     "output_type": "execute_result"
    },
    {
     "data": {
      "text/plain": [
       "<Figure size 640x480 with 2 Axes>"
      ],
      "image/png": "[encoded data removed]"
     },
     "metadata": {},
     "output_type": "display_data"
    }
   ],
   "execution_count": 12
  },
  {
   "cell_type": "code",
   "id": "c392c692-0ba9-488a-b26e-135cf835c43a",
   "metadata": {
    "colab": {
     "base_uri": "https://localhost:8080/"
    },
    "id": "c392c692-0ba9-488a-b26e-135cf835c43a",
    "outputId": "41416f9e-46be-4182-b6c1-016de938c735",
    "ExecuteTime": {
     "end_time": "2024-12-06T11:50:26.161735Z",
     "start_time": "2024-12-06T11:50:26.129041Z"
    }
   },
   "source": [
    "from sklearn.metrics import confusion_matrix, accuracy_score, precision_score, recall_score, f1_score\n",
    "\n",
    "conf_matrix = confusion_matrix(y_test, y_pred)\n",
    "print(\"Confusion Matrix:\")\n",
    "print(conf_matrix)\n",
    "\n",
    "# Metrics\n",
    "accuracy = accuracy_score(y_test, y_pred)\n",
    "precision = precision_score(y_test, y_pred)\n",
    "recall = recall_score(y_test, y_pred)\n",
    "f1 = f1_score(y_test, y_pred)\n",
    "\n",
    "print(f\"Accuracy: {accuracy:.2f}\")\n",
    "print(f\"Precision: {precision:.2f}\")\n",
    "print(f\"Recall: {recall:.2f}\")\n",
    "print(f\"F1 Score: {f1:.2f}\")"
   ],
   "outputs": [
    {
     "name": "stdout",
     "output_type": "stream",
     "text": [
      "Confusion Matrix:\n",
      "[[87  0]\n",
      " [ 0 38]]\n",
      "Accuracy: 1.00\n",
      "Precision: 1.00\n",
      "Recall: 1.00\n",
      "F1 Score: 1.00\n"
     ]
    }
   ],
   "execution_count": 13
  },
  {
   "cell_type": "code",
   "id": "0860daf0-d08b-4941-a69c-ac91e6cae7de",
   "metadata": {
    "id": "0860daf0-d08b-4941-a69c-ac91e6cae7de",
    "ExecuteTime": {
     "end_time": "2024-12-06T11:50:26.170788Z",
     "start_time": "2024-12-06T11:50:26.164273Z"
    }
   },
   "source": [
    "import pickle"
   ],
   "outputs": [],
   "execution_count": 14
  },
  {
   "cell_type": "code",
   "source": [
    "with open('model.pkl', 'wb') as file:\n",
    "    pickle.dump(rf_model, file)"
   ],
   "metadata": {
    "id": "gWf75bgPvf4Z",
    "ExecuteTime": {
     "end_time": "2024-12-06T11:50:26.190045Z",
     "start_time": "2024-12-06T11:50:26.174457Z"
    }
   },
   "id": "gWf75bgPvf4Z",
   "outputs": [],
   "execution_count": 15
  }
 ],
 "metadata": {
  "kernelspec": {
   "display_name": "Python 3 (ipykernel)",
   "language": "python",
   "name": "python3"
  },
  "language_info": {
   "codemirror_mode": {
    "name": "ipython",
    "version": 3
   },
   "file_extension": ".py",
   "mimetype": "text/x-python",
   "name": "python",
   "nbconvert_exporter": "python",
   "pygments_lexer": "ipython3",
   "version": "3.10.15"
  },
  "colab": {
   "provenance": []
  }
 },
 "nbformat": 4,
 "nbformat_minor": 5
}
